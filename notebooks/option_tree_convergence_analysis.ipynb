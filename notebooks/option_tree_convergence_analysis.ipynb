{
 "cells": [
  {
   "cell_type": "markdown",
   "id": "21631cc8",
   "metadata": {},
   "source": [
    "\n",
    "# Jarrow-Rudd and Cox-Ross-Rubinstein Option Tree Convergence Study\n",
    "\n",
    "This notebook verifies the Black-Scholes benchmark, implements a recombining binomial tree (Cox-Ross-Rubinstein and Jarrow-Rudd variants) for European and American options, and studies convergence of the discrete-time model to the continuous-time Black-Scholes solution.\n"
   ]
  },
  {
   "cell_type": "markdown",
   "id": "370253e7",
   "metadata": {},
   "source": [
    "\n",
    "## 1. Imports and Environment Verification\n",
    "\n",
    "The following cell imports the required scientific Python stack and confirms access to the [`ragtop.blackscholes`](https://pypi.org/project/ragtop/) reference implementation by reproducing a known price (~113.34) for a deep in-the-money put option.\n"
   ]
  },
  {
   "cell_type": "code",
   "execution_count": 6,
   "id": "1e983b22",
   "metadata": {
    "execution": {
     "iopub.execute_input": "2025-10-21T05:25:18.146964Z",
     "iopub.status.busy": "2025-10-21T05:25:18.146710Z",
     "iopub.status.idle": "2025-10-21T05:25:19.625815Z",
     "shell.execute_reply": "2025-10-21T05:25:19.624477Z"
    }
   },
   "outputs": [
    {
     "name": "stdout",
     "output_type": "stream",
     "text": [
      "ragtop black-scholes put price: 113.34\n"
     ]
    }
   ],
   "source": [
    "import sys\n",
    "from pathlib import Path as _Path\n",
    "_cwd = _Path.cwd()\n",
    "sys.path.extend([str(_cwd), str(_cwd.parent)])\n",
    "\n",
    "import numpy as np\n",
    "import pandas as pd\n",
    "import matplotlib.pyplot as plt\n",
    "from math import log, exp, sqrt\n",
    "from scipy.stats import norm\n",
    "import ragtop.blackscholes\n",
    "\n",
    "price = ragtop.blackscholes.black_scholes(-1, 625, 612, 0.05, 0.75, 0.62, borrow_cost=0.011)\n",
    "print(f\"ragtop black-scholes put price: {price['Price']:.2f}\")"
   ]
  },
  {
   "cell_type": "markdown",
   "id": "0a3a403a",
   "metadata": {},
   "source": [
    "\n",
    "The `ragtop.blackscholes` module returns a value close to 113.34, confirming that the environment matches the expected benchmark.\n"
   ]
  },
  {
   "cell_type": "markdown",
   "id": "b176c9c4",
   "metadata": {},
   "source": [
    "\n",
    "## 2. Black-Scholes Reference Implementation\n",
    "\n",
    "The Black-Scholes model prices European options using the well-known closed-form expressions (Black & Scholes, 1973; Choi, 2022):\n",
    "\n",
    "$$\n",
    "\\begin{aligned}\n",
    " d_1 &= \\frac{\\ln(S/K) + (r - q + 0.5\\sigma^2)T}{\\sigma\\sqrt{T}}, \\\\\n",
    " d_2 &= d_1 - \\sigma\\sqrt{T}, \\\\\n",
    " C &= e^{-qT}\\big[S\\, N(d_1)\\big] - e^{-rT}\\big[K\\, N(d_2)\\big], \\\\\n",
    " P &= e^{-rT}\\big[K\\, N(-d_2)\\big] - e^{-qT}\\big[S\\, N(-d_1)\\big].\n",
    "\\end{aligned}\n",
    "$$\n",
    "\n",
    "The helper below mirrors the `ragtop` signature and supports both calls and puts.\n"
   ]
  },
  {
   "cell_type": "code",
   "execution_count": 7,
   "id": "fd71c709",
   "metadata": {
    "execution": {
     "iopub.execute_input": "2025-10-21T05:25:19.629150Z",
     "iopub.status.busy": "2025-10-21T05:25:19.628707Z",
     "iopub.status.idle": "2025-10-21T05:25:19.634780Z",
     "shell.execute_reply": "2025-10-21T05:25:19.633970Z"
    }
   },
   "outputs": [],
   "source": [
    "\n",
    "def black_scholes_price(S, K, r, q, sigma, T, option_type='call'):\n",
    "    '''Compute the Black-Scholes price for a European option.\n",
    "\n",
    "    Parameters\n",
    "    ----------\n",
    "    S : float\n",
    "        Spot price of the underlying asset.\n",
    "    K : float\n",
    "        Strike price of the option.\n",
    "    r : float\n",
    "        Continuously compounded risk-free interest rate.\n",
    "    q : float\n",
    "        Continuously compounded dividend yield (or convenience yield).\n",
    "    sigma : float\n",
    "        Volatility of log returns (standard deviation per sqrt-year).\n",
    "    T : float\n",
    "        Time to maturity in years.\n",
    "    option_type : {'call', 'put'}\n",
    "        Type of the option payoff.\n",
    "\n",
    "    Returns\n",
    "    -------\n",
    "    float\n",
    "        Present value of the option under risk-neutral valuation.\n",
    "    '''\n",
    "    if T <= 0:\n",
    "        intrinsic = max(0.0, (S - K) if option_type == 'call' else (K - S))\n",
    "        return intrinsic\n",
    "\n",
    "    sqrtT = sqrt(T)\n",
    "    d1 = (log(S / K) + (r - q + 0.5 * sigma ** 2) * T) / (sigma * sqrtT)\n",
    "    d2 = d1 - sigma * sqrtT\n",
    "\n",
    "    if option_type == 'call':\n",
    "        price = exp(-q * T) * S * norm.cdf(d1) - exp(-r * T) * K * norm.cdf(d2)\n",
    "    elif option_type == 'put':\n",
    "        price = exp(-r * T) * K * norm.cdf(-d2) - exp(-q * T) * S * norm.cdf(-d1)\n",
    "    else:\n",
    "        raise ValueError(\"option_type must be 'call' or 'put'\")\n",
    "\n",
    "    return price\n"
   ]
  },
  {
   "cell_type": "markdown",
   "id": "ef30146a",
   "metadata": {},
   "source": [
    "\n",
    "## 3. Binomial Tree Implementation\n",
    "\n",
    "A recombining binomial tree approximates the risk-neutral diffusion by discretising time into $N$ equal steps of $\\Delta t = T/N$. Two commonly used parameterisations are:\n",
    "\n",
    "* **Cox-Ross-Rubinstein (CRR, 1979)**\n",
    "  $$ u = e^{\\sigma\\sqrt{\\Delta t}}, \\qquad d = e^{-\\sigma\\sqrt{\\Delta t}}, \\qquad p = \\frac{e^{(r-q)\\Delta t} - d}{u - d}. $$\n",
    "* **Jarrow-Rudd (JR, 1983)**\n",
    "  $$ u = e^{(r - q - 0.5\\sigma^2)\\Delta t + \\sigma\\sqrt{\\Delta t}}, \\qquad d = e^{(r - q - 0.5\\sigma^2)\\Delta t - \\sigma\\sqrt{\\Delta t}}, \\qquad p = 0.5. $$\n",
    "\n",
    "At maturity the option value is $V_i = \\max(\\xi (S_i - K), 0)$ with $\\xi = 1$ for calls and $\\xi = -1$ for puts. Working backwards in time we discount the expected value under the risk-neutral probabilities; for American exercise we also compare against the intrinsic value at each node. As $N \\to \\infty$, both schemes converge to the continuous-time Black-Scholes price because the discrete generator converges to the Black-Scholes PDE.\n"
   ]
  },
  {
   "cell_type": "markdown",
   "id": "f64084bc",
   "metadata": {},
   "source": [
    "Using the CRR implimentation:"
   ]
  },
  {
   "cell_type": "code",
   "execution_count": 8,
   "id": "f81e5fa1",
   "metadata": {
    "execution": {
     "iopub.execute_input": "2025-10-21T05:25:19.636858Z",
     "iopub.status.busy": "2025-10-21T05:25:19.636662Z",
     "iopub.status.idle": "2025-10-21T05:25:19.645448Z",
     "shell.execute_reply": "2025-10-21T05:25:19.644533Z"
    }
   },
   "outputs": [],
   "source": [
    "\n",
    "def binomial_tree(S, K, r, q, sigma, T, N, option_type='put', exercise='european', model='crr'):\n",
    "    '''Price an option with a recombining binomial tree.\n",
    "\n",
    "    Parameters mirror the Black-Scholes setup. The tree supports European and American exercise\n",
    "    styles and can use either the Cox-Ross-Rubinstein (default) or Jarrow-Rudd parameterisation.\n",
    "    '''\n",
    "    if N <= 0:\n",
    "        raise ValueError(\"N must be a positive integer\")\n",
    "    if T < 0:\n",
    "        raise ValueError(\"Time to maturity T must be non-negative\")\n",
    "\n",
    "    if T == 0:\n",
    "        intrinsic = max(0.0, (S - K) if option_type == 'call' else (K - S))\n",
    "        return intrinsic\n",
    "\n",
    "    dt = T / N\n",
    "    sqrt_dt = sqrt(dt)\n",
    "\n",
    "    if model.lower() == 'crr':\n",
    "        u = exp(sigma * sqrt_dt)\n",
    "        d = exp(-sigma * sqrt_dt)\n",
    "        disc_growth = exp((r - q) * dt)\n",
    "        p = (disc_growth - d) / (u - d)\n",
    "    elif model.lower() == 'jr':\n",
    "        drift = (r - q - 0.5 * sigma ** 2) * dt\n",
    "        u = exp(drift + sigma * sqrt_dt)\n",
    "        d = exp(drift - sigma * sqrt_dt)\n",
    "        p = 0.5\n",
    "    else:\n",
    "        raise ValueError(\"model must be 'crr' or 'jr'\")\n",
    "\n",
    "    if not (0 <= p <= 1):\n",
    "        raise ValueError(\"Risk-neutral probability out of bounds; adjust inputs or model\")\n",
    "\n",
    "    discount = exp(-r * dt)\n",
    "\n",
    "    # Terminal asset prices after N steps\n",
    "    j = np.arange(N + 1)\n",
    "    asset_prices = S * (u ** j) * (d ** (N - j))\n",
    "\n",
    "    if option_type == 'call':\n",
    "        option_values = np.maximum(asset_prices - K, 0.0)\n",
    "    elif option_type == 'put':\n",
    "        option_values = np.maximum(K - asset_prices, 0.0)\n",
    "    else:\n",
    "        raise ValueError(\"option_type must be 'call' or 'put'\")\n",
    "\n",
    "    # Backward induction\n",
    "    for step in range(N - 1, -1, -1):\n",
    "        option_values = discount * (p * option_values[1:] + (1 - p) * option_values[:-1])\n",
    "\n",
    "        if exercise.lower() == 'american':\n",
    "            asset_prices = S * (u ** np.arange(step + 1)) * (d ** (step - np.arange(step + 1)))\n",
    "            if option_type == 'call':\n",
    "                intrinsic = np.maximum(asset_prices - K, 0.0)\n",
    "            else:\n",
    "                intrinsic = np.maximum(K - asset_prices, 0.0)\n",
    "            option_values = np.maximum(option_values, intrinsic)\n",
    "\n",
    "    return option_values[0]\n"
   ]
  },
  {
   "cell_type": "markdown",
   "id": "23c0dff8",
   "metadata": {},
   "source": [
    "\n",
    "## 4. American vs. European Validation\n",
    "\n",
    "For a representative near-the-money put option ($S=K=100$) with moderate volatility, an American contract must be worth at least as much as the European counterpart because it has an additional early exercise feature.\n"
   ]
  },
  {
   "cell_type": "code",
   "execution_count": 9,
   "id": "41aac1a5",
   "metadata": {
    "execution": {
     "iopub.execute_input": "2025-10-21T05:25:19.647468Z",
     "iopub.status.busy": "2025-10-21T05:25:19.647268Z",
     "iopub.status.idle": "2025-10-21T05:25:19.658583Z",
     "shell.execute_reply": "2025-10-21T05:25:19.657770Z"
    }
   },
   "outputs": [
    {
     "name": "stdout",
     "output_type": "stream",
     "text": [
      "European put (CRR, N=200): 5.5635\n",
      "American put (CRR, N=200): 6.0864\n"
     ]
    }
   ],
   "source": [
    "\n",
    "S, K, r, q, sigma, T = 100, 100, 0.05, 0.0, 0.2, 1.0\n",
    "\n",
    "price_eur = binomial_tree(S, K, r, q, sigma, T, N=200, option_type='put', exercise='european', model='crr')\n",
    "price_am = binomial_tree(S, K, r, q, sigma, T, N=200, option_type='put', exercise='american', model='crr')\n",
    "\n",
    "print(f\"European put (CRR, N=200): {price_eur:.4f}\")\n",
    "print(f\"American put (CRR, N=200): {price_am:.4f}\")\n"
   ]
  },
  {
   "cell_type": "markdown",
   "id": "c1c223d6",
   "metadata": {},
   "source": [
    "\n",
    "As expected, the American put price is greater than or equal to the European price, reflecting the value of the early exercise privilege.\n"
   ]
  },
  {
   "cell_type": "markdown",
   "id": "44d8ee3a",
   "metadata": {},
   "source": [
    "\n",
    "## 5. Convergence DataFrame Construction\n",
    "\n",
    "We now study convergence for a European put by increasing the number of binomial time steps $N$ from 1 to 500. The Black-Scholes benchmark provides the continuous-time target, and the absolute error quantifies the discretisation bias of the tree.\n"
   ]
  },
  {
   "cell_type": "code",
   "execution_count": 10,
   "id": "f4e9b217",
   "metadata": {
    "execution": {
     "iopub.execute_input": "2025-10-21T05:25:19.660815Z",
     "iopub.status.busy": "2025-10-21T05:25:19.660640Z",
     "iopub.status.idle": "2025-10-21T05:25:20.216022Z",
     "shell.execute_reply": "2025-10-21T05:25:20.215504Z"
    }
   },
   "outputs": [
    {
     "data": {
      "text/html": [
       "<div>\n",
       "<style scoped>\n",
       "    .dataframe tbody tr th:only-of-type {\n",
       "        vertical-align: middle;\n",
       "    }\n",
       "\n",
       "    .dataframe tbody tr th {\n",
       "        vertical-align: top;\n",
       "    }\n",
       "\n",
       "    .dataframe thead th {\n",
       "        text-align: right;\n",
       "    }\n",
       "</style>\n",
       "<table border=\"1\" class=\"dataframe\">\n",
       "  <thead>\n",
       "    <tr style=\"text-align: right;\">\n",
       "      <th></th>\n",
       "      <th>N</th>\n",
       "      <th>TreePrice</th>\n",
       "      <th>BSPrice</th>\n",
       "      <th>Error</th>\n",
       "      <th>logN</th>\n",
       "      <th>logError</th>\n",
       "    </tr>\n",
       "  </thead>\n",
       "  <tbody>\n",
       "    <tr>\n",
       "      <th>0</th>\n",
       "      <td>1</td>\n",
       "      <td>7.285227</td>\n",
       "      <td>5.573526</td>\n",
       "      <td>1.711701</td>\n",
       "      <td>0.000000</td>\n",
       "      <td>0.537488</td>\n",
       "    </tr>\n",
       "    <tr>\n",
       "      <th>1</th>\n",
       "      <td>2</td>\n",
       "      <td>4.663444</td>\n",
       "      <td>5.573526</td>\n",
       "      <td>0.910082</td>\n",
       "      <td>0.693147</td>\n",
       "      <td>-0.094220</td>\n",
       "    </tr>\n",
       "    <tr>\n",
       "      <th>2</th>\n",
       "      <td>3</td>\n",
       "      <td>6.166814</td>\n",
       "      <td>5.573526</td>\n",
       "      <td>0.593288</td>\n",
       "      <td>1.098612</td>\n",
       "      <td>-0.522076</td>\n",
       "    </tr>\n",
       "    <tr>\n",
       "      <th>3</th>\n",
       "      <td>4</td>\n",
       "      <td>5.093465</td>\n",
       "      <td>5.573526</td>\n",
       "      <td>0.480061</td>\n",
       "      <td>1.386294</td>\n",
       "      <td>-0.733843</td>\n",
       "    </tr>\n",
       "    <tr>\n",
       "      <th>4</th>\n",
       "      <td>5</td>\n",
       "      <td>5.928876</td>\n",
       "      <td>5.573526</td>\n",
       "      <td>0.355350</td>\n",
       "      <td>1.609438</td>\n",
       "      <td>-1.034651</td>\n",
       "    </tr>\n",
       "  </tbody>\n",
       "</table>\n",
       "</div>"
      ],
      "text/plain": [
       "   N  TreePrice   BSPrice     Error      logN  logError\n",
       "0  1   7.285227  5.573526  1.711701  0.000000  0.537488\n",
       "1  2   4.663444  5.573526  0.910082  0.693147 -0.094220\n",
       "2  3   6.166814  5.573526  0.593288  1.098612 -0.522076\n",
       "3  4   5.093465  5.573526  0.480061  1.386294 -0.733843\n",
       "4  5   5.928876  5.573526  0.355350  1.609438 -1.034651"
      ]
     },
     "execution_count": 10,
     "metadata": {},
     "output_type": "execute_result"
    }
   ],
   "source": [
    "\n",
    "Ns = np.arange(1, 501)\n",
    "results = []\n",
    "bs_val = black_scholes_price(S, K, r, q, sigma, T, option_type='put')\n",
    "for N in Ns:\n",
    "    tree_val = binomial_tree(S, K, r, q, sigma, T, N, option_type='put', exercise='european', model='crr')\n",
    "    err = abs(tree_val - bs_val)\n",
    "    results.append((N, tree_val, bs_val, err))\n",
    "\n",
    "df = pd.DataFrame(results, columns=['N', 'TreePrice', 'BSPrice', 'Error'])\n",
    "df['logN'] = np.log(df['N'])\n",
    "df['logError'] = np.log(df['Error'].replace(0, np.nan))\n",
    "df.head()\n"
   ]
  },
  {
   "cell_type": "markdown",
   "id": "fb461fb8",
   "metadata": {},
   "source": [
    "\n",
    "## 6. Convergence Visualization\n",
    "\n",
    "The log-log plot below highlights how the binomial tree error decays with $N$. A slope near $-1$ indicates first-order convergence with respect to the number of time steps, consistent with classical binomial discretisations.\n"
   ]
  },
  {
   "cell_type": "code",
   "execution_count": 11,
   "id": "312fcc88",
   "metadata": {
    "execution": {
     "iopub.execute_input": "2025-10-21T05:25:20.219084Z",
     "iopub.status.busy": "2025-10-21T05:25:20.218744Z",
     "iopub.status.idle": "2025-10-21T05:25:20.666815Z",
     "shell.execute_reply": "2025-10-21T05:25:20.665539Z"
    }
   },
   "outputs": [
    {
     "data": {
      "image/png": "[encoded data removed]",
      "text/plain": [
       "<Figure size 800x600 with 1 Axes>"
      ]
     },
     "metadata": {},
     "output_type": "display_data"
    }
   ],
   "source": [
    "\n",
    "plt.figure(figsize=(8, 6))\n",
    "plt.loglog(df['N'], df['Error'], marker='o', linestyle='-', label='|Tree - Black-Scholes|')\n",
    "plt.xlabel('N (Number of Steps)')\n",
    "plt.ylabel('Absolute Pricing Error')\n",
    "plt.title('Convergence of Binomial Tree to Black-Scholes')\n",
    "plt.grid(True, which='both', ls='--', alpha=0.6)\n",
    "plt.legend()\n",
    "plt.show()\n"
   ]
  },
  {
   "cell_type": "markdown",
   "id": "966a0679",
   "metadata": {},
   "source": [
    "\n",
    "## 7. Regression and Slope Estimation\n",
    "\n",
    "A linear regression on the log-log data provides an empirical estimate of the convergence rate:\n",
    "\n",
    "$$\n",
    "log(Error) \\approx \\text{slope} \\times \\log(N) + \\text{intercept}.\n",
    "$$\n",
    "\n",
    "For the CRR tree we expect a slope close to $-1$; deviations reflect finite-sample bias or numerical noise when the error approaches machine precision.\n"
   ]
  },
  {
   "cell_type": "code",
   "execution_count": 12,
   "id": "f08fba9c",
   "metadata": {
    "execution": {
     "iopub.execute_input": "2025-10-21T05:25:20.669430Z",
     "iopub.status.busy": "2025-10-21T05:25:20.669216Z",
     "iopub.status.idle": "2025-10-21T05:25:20.676585Z",
     "shell.execute_reply": "2025-10-21T05:25:20.675562Z"
    }
   },
   "outputs": [
    {
     "name": "stdout",
     "output_type": "stream",
     "text": [
      "Convergence slope (log-log): -0.9979\n",
      "Intercept: 0.6158\n"
     ]
    }
   ],
   "source": [
    "\n",
    "mask = df['Error'] > 0\n",
    "coeffs = np.polyfit(df.loc[mask, 'logN'], df.loc[mask, 'logError'], 1)\n",
    "slope, intercept = coeffs\n",
    "print(f\"Convergence slope (log-log): {slope:.4f}\")\n",
    "print(f\"Intercept: {intercept:.4f}\")\n"
   ]
  },
  {
   "cell_type": "markdown",
   "id": "cd6caaf9",
   "metadata": {},
   "source": [
    "\n",
    "## 8. Discussion and Summary\n",
    "\n",
    "* **Black-Scholes verification:** Both the direct implementation and the `ragtop` reference produce consistent prices, validating the computational setup.\n",
    "* **American vs. European parity:** The American put dominates the European price, as guaranteed by the optionality of early exercise.\n",
    "* **Convergence behaviour:** The CRR (and similarly JR) binomial trees exhibit first-order convergence ($\\mathcal{O}(1/N)$) towards the Black-Scholes benchmark as $\\Delta t \\to 0$, echoing the convergence of the discrete generator to the continuous Black-Scholes partial differential equation\n",
    "  $$ \\frac{\\partial V}{\\partial t} + \\frac{1}{2}\\sigma^2 S^2 \\frac{\\partial^2 V}{\\partial S^2} + (r-q) S \\frac{\\partial V}{\\partial S} - r V = 0, $$\n",
    "  and the associated Fokker-Planck limit (see Andersen & Boonstra for rigorous treatments of binomial-to-diffusion convergence).\n",
    "* **Regression insight:** The estimated slope quantifies the asymptotic decay rate of the discretisation error, providing empirical confirmation of the theoretical scaling.\n",
    "\n",
    "Together these results demonstrate that the binomial lattice is a consistent and convergent numerical scheme for Black-Scholes option valuation while accommodating American exercise features absent from the closed-form solution.\n"
   ]
  }
 ],
 "metadata": {
  "kernelspec": {
   "display_name": "risk",
   "language": "python",
   "name": "python3"
  },
  "language_info": {
   "codemirror_mode": {
    "name": "ipython",
    "version": 3
   },
   "file_extension": ".py",
   "mimetype": "text/x-python",
   "name": "python",
   "nbconvert_exporter": "python",
   "pygments_lexer": "ipython3",
   "version": "3.13.9"
  }
 },
 "nbformat": 4,
 "nbformat_minor": 5
}
