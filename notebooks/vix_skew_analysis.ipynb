{
 "cells": [
  {
   "cell_type": "markdown",
   "id": "02d2133b",
   "metadata": {},
   "source": [
    "# VIX Skew Analysis"
   ]
  },
  {
   "cell_type": "markdown",
   "id": "0ae76a7e",
   "metadata": {},
   "source": [
    "## Setup & Imports"
   ]
  },
  {
   "cell_type": "code",
   "execution_count": null,
   "id": "44130b89",
   "metadata": {},
   "outputs": [],
   "source": [
    "\n",
    "import pandas as pd\n",
    "import numpy as np\n",
    "import matplotlib.pyplot as plt\n",
    "from scipy.stats import norm\n",
    "from scipy.optimize import brentq\n",
    "from IPython.display import display\n",
    "from datetime import timedelta\n",
    "\n",
    "plt.style.use('seaborn-v0_8')\n",
    "\n",
    "VALUATION_DATE = pd.Timestamp(\"2025-10-13\")\n",
    "\n",
    "def black_price(forward, strike, rate, time_to_expiry, vol, option='call'):\n",
    "    if time_to_expiry <= 0:\n",
    "        intrinsic = max(forward - strike, 0.0) if option == 'call' else max(strike - forward, 0.0)\n",
    "        return np.exp(-rate * time_to_expiry) * intrinsic\n",
    "    vol = max(vol, 1e-6)\n",
    "    std_dev = vol * np.sqrt(time_to_expiry)\n",
    "    d1 = (np.log(forward / strike) + 0.5 * std_dev ** 2) / std_dev\n",
    "    d2 = d1 - std_dev\n",
    "    df = np.exp(-rate * time_to_expiry)\n",
    "    if option == 'call':\n",
    "        return df * (forward * norm.cdf(d1) - strike * norm.cdf(d2))\n",
    "    return df * (strike * norm.cdf(-d2) - forward * norm.cdf(-d1))\n",
    "\n",
    "def black_implied_vol(price, forward, strike, rate, time_to_expiry, option='call'):\n",
    "    if price <= 0:\n",
    "        return np.nan\n",
    "    intrinsic = 0.0\n",
    "    if option == 'call':\n",
    "        intrinsic = np.exp(-rate * time_to_expiry) * max(forward - strike, 0.0)\n",
    "    else:\n",
    "        intrinsic = np.exp(-rate * time_to_expiry) * max(strike - forward, 0.0)\n",
    "    if price < intrinsic:\n",
    "        price = intrinsic\n",
    "\n",
    "    def objective(vol):\n",
    "        return black_price(forward, strike, rate, time_to_expiry, vol, option) - price\n",
    "\n",
    "    try:\n",
    "        return brentq(objective, 1e-4, 5.0, maxiter=200)\n",
    "    except ValueError:\n",
    "        return np.nan\n",
    "\n",
    "def black_delta(forward, strike, rate, time_to_expiry, vol, option='call'):\n",
    "    if time_to_expiry <= 0 or vol <= 0:\n",
    "        if option == 'call':\n",
    "            return 1.0 if forward > strike else 0.0\n",
    "        return -1.0 if forward < strike else 0.0\n",
    "    std_dev = vol * np.sqrt(time_to_expiry)\n",
    "    d1 = (np.log(forward / strike) + 0.5 * std_dev ** 2) / std_dev\n",
    "    df = np.exp(-rate * time_to_expiry)\n",
    "    if option == 'call':\n",
    "        return df * norm.cdf(d1)\n",
    "    return -df * norm.cdf(-d1)\n"
   ]
  },
  {
   "cell_type": "markdown",
   "id": "7453799b",
   "metadata": {},
   "source": [
    "## Load Data"
   ]
  },
  {
   "cell_type": "code",
   "execution_count": null,
   "id": "0dedae0c",
   "metadata": {},
   "outputs": [],
   "source": [
    "\n",
    "chain_path = 'data/VIX_65d_Options_ChainData.csv'\n",
    "underlying_path = 'data/VIX_65d_Options_UnderlyingData.csv'\n",
    "\n",
    "chain_raw = pd.read_csv(chain_path)\n",
    "underlying = pd.read_csv(underlying_path)\n",
    "\n",
    "chain_raw['Call Mid'] = (chain_raw['Call Bid'] + chain_raw['Call Ask']) / 2\n",
    "chain_raw['Put Mid'] = (chain_raw['Put Bid'] + chain_raw['Put Ask']) / 2\n",
    "\n",
    "merged = chain_raw.merge(underlying, on='T', how='left', suffixes=('', '_underlying'))\n",
    "\n",
    "unique_tenors = merged['T'].unique()\n",
    "tenor_map = dict(zip(sorted(unique_tenors), ['UXZ5', 'UXF6']))\n",
    "merged['Expiry'] = merged['T'].map(tenor_map)\n",
    "\n",
    "tenor_calendar = []\n",
    "for tenor in sorted(unique_tenors):\n",
    "    days = int(round(tenor * 365))\n",
    "    expiry_date = VALUATION_DATE + timedelta(days=days)\n",
    "    tenor_calendar.append({'T': tenor, 'Calendar Days': days, 'Expiry (Approx)': expiry_date.date()})\n",
    "\n",
    "pd.DataFrame(tenor_calendar)\n"
   ]
  },
  {
   "cell_type": "markdown",
   "id": "e9f5f4da",
   "metadata": {},
   "source": [
    "## Compute Forwards"
   ]
  },
  {
   "cell_type": "code",
   "execution_count": null,
   "id": "74443056",
   "metadata": {},
   "outputs": [],
   "source": [
    "\n",
    "expiry_results = {}\n",
    "summary_rows = []\n",
    "\n",
    "for expiry, group in merged.groupby('Expiry'):\n",
    "    grp = group.sort_values('Strike').reset_index(drop=True).copy()\n",
    "    rate = grp['r'].iloc[0]\n",
    "    future_hint = grp['Future'].iloc[0]\n",
    "    tenor = grp['T'].iloc[0]\n",
    "\n",
    "    grp['Forward (Parity)'] = grp['Strike'] + np.exp(rate * tenor) * (grp['Call Mid'] - grp['Put Mid'])\n",
    "\n",
    "    near_atm = grp.iloc[(np.abs(grp['Strike'] - future_hint)).argsort()[:5]]\n",
    "    forward_level = near_atm['Forward (Parity)'].mean()\n",
    "    grp['Forward Level'] = forward_level\n",
    "\n",
    "    summary_rows.append({'Expiry': expiry,\n",
    "                         'Time to Expiry': tenor,\n",
    "                         'Forward (Future)': future_hint,\n",
    "                         'Forward (Parity Avg)': forward_level})\n",
    "    expiry_results[expiry] = grp\n",
    "\n",
    "summary_df = pd.DataFrame(summary_rows)\n",
    "summary_df\n"
   ]
  },
  {
   "cell_type": "markdown",
   "id": "fdeda8c8",
   "metadata": {},
   "source": [
    "## Implied Volatilities"
   ]
  },
  {
   "cell_type": "code",
   "execution_count": null,
   "id": "8c1953b8",
   "metadata": {},
   "outputs": [],
   "source": [
    "\n",
    "for expiry, grp in expiry_results.items():\n",
    "    rate = grp['r'].iloc[0]\n",
    "    tenor = grp['T'].iloc[0]\n",
    "    forward_level = grp['Forward Level'].iloc[0]\n",
    "\n",
    "    grp['Bloomberg Call IV'] = grp['Call IVM'] / 100\n",
    "    grp['Bloomberg Put IV'] = grp['Put IVM'] / 100\n",
    "    grp['Mid Call IV'] = grp.apply(\n",
    "        lambda row: black_implied_vol(row['Call Mid'], forward_level, row['Strike'], rate, tenor, 'call'), axis=1)\n",
    "    grp['Mid Put IV'] = grp.apply(\n",
    "        lambda row: black_implied_vol(row['Put Mid'], forward_level, row['Strike'], rate, tenor, 'put'), axis=1)\n",
    "\n",
    "    atm_idx = (grp['Strike'] - forward_level).abs().idxmin()\n",
    "    atmf_vol = np.nanmean([grp.loc[atm_idx, 'Mid Call IV'], grp.loc[atm_idx, 'Mid Put IV']])\n",
    "    grp['ATMF Vol'] = atmf_vol\n",
    "\n",
    "    expiry_results[expiry] = grp\n",
    "\n",
    "expiry_results['UXZ5'][['Strike', 'Call Mid', 'Put Mid', 'Mid Call IV', 'Mid Put IV']].head()\n"
   ]
  },
  {
   "cell_type": "markdown",
   "id": "6b48b2ee",
   "metadata": {},
   "source": [
    "## Delta Calculations"
   ]
  },
  {
   "cell_type": "code",
   "execution_count": null,
   "id": "92c823c8",
   "metadata": {},
   "outputs": [],
   "source": [
    "\n",
    "for expiry, grp in expiry_results.items():\n",
    "    rate = grp['r'].iloc[0]\n",
    "    tenor = grp['T'].iloc[0]\n",
    "    forward_level = grp['Forward Level'].iloc[0]\n",
    "\n",
    "    grp['Call Delta'] = grp.apply(\n",
    "        lambda row: black_delta(forward_level, row['Strike'], rate, tenor, row['Mid Call IV'], 'call'), axis=1)\n",
    "    grp['Put Delta'] = grp.apply(\n",
    "        lambda row: black_delta(forward_level, row['Strike'], rate, tenor, row['Mid Put IV'], 'put'), axis=1)\n",
    "\n",
    "    atm_idx = (grp['Strike'] - forward_level).abs().idxmin()\n",
    "    grp['ATM Call Delta'] = grp.loc[atm_idx, 'Call Delta']\n",
    "\n",
    "    grp['Log Moneyness'] = np.log(grp['Strike'] / forward_level)\n",
    "    denom = grp['ATMF Vol'] * np.sqrt(tenor)\n",
    "    grp['Z-Score'] = np.where(denom > 0, grp['Log Moneyness'] / denom, np.nan)\n",
    "    grp['Center Delta'] = grp['Call Delta'] - 0.5\n",
    "    grp['Local Delta'] = grp['Call Delta']\n",
    "\n",
    "    expiry_results[expiry] = grp\n",
    "\n",
    "expiry_results['UXF6'][['Strike', 'Call Delta', 'Put Delta', 'Center Delta', 'Local Delta']].head()\n"
   ]
  },
  {
   "cell_type": "markdown",
   "id": "08261bc3",
   "metadata": {},
   "source": [
    "## Skew Plotting"
   ]
  },
  {
   "cell_type": "code",
   "execution_count": null,
   "id": "384a332c",
   "metadata": {},
   "outputs": [],
   "source": [
    "\n",
    "    axis_config = [\n",
    "        ('Strike', 'Strike'),\n",
    "        ('Log Moneyness', 'Log Moneyness'),\n",
    "        ('Z-Score', 'Z-Score'),\n",
    "        ('Center Delta', 'Center Delta'),\n",
    "        ('Local Delta', 'Local Delta'),\n",
    "    ]\n",
    "\n",
    "    for expiry in ['UXZ5', 'UXF6']:\n",
    "        grp = expiry_results[expiry].sort_values('Strike').copy()\n",
    "        rate = grp['r'].iloc[0]\n",
    "        tenor = grp['T'].iloc[0]\n",
    "        forward_level = grp['Forward Level'].iloc[0]\n",
    "        atmf_vol = grp['ATMF Vol'].iloc[0]\n",
    "        atm_delta = grp['ATM Call Delta'].iloc[0]\n",
    "\n",
    "        display(pd.DataFrame({'Metric': ['Forward (Parity Avg)', 'ATMF Vol', 'ATM Call Delta'],\n",
    "                              'Value': [forward_level, atmf_vol, atm_delta]}))\n",
    "\n",
    "        for axis_label, axis_col in axis_config:\n",
    "            fig, ax = plt.subplots(figsize=(9, 5))\n",
    "            x = grp[axis_col]\n",
    "            ax.plot(x, grp['Bloomberg Call IV'] * 100, label='Bloomberg Call IV', linestyle='--', color='tab:blue')\n",
    "            ax.plot(x, grp['Mid Call IV'] * 100, label='Mid Call IV', color='tab:orange')\n",
    "            ax.plot(x, grp['Mid Put IV'] * 100, label='Mid Put IV', color='tab:green')\n",
    "            ax.axhline(atmf_vol * 100, color='gray', linestyle=':', label='ATMF Vol')\n",
    "            if axis_col in ['Log Moneyness', 'Center Delta']:\n",
    "                ax.axvline(0.0, color='gray', linestyle=':')\n",
    "            if axis_col == 'Strike':\n",
    "                ax.axvline(forward_level, color='red', linestyle=':', label='Forward')\n",
    "            if axis_col == 'Local Delta':\n",
    "                ax.axvline(atm_delta, color='purple', linestyle=':', label='ATM Delta')\n",
    "            ax.set_title(f\"{expiry} Skew vs. {axis_label}\")\n",
    "            ax.set_xlabel(axis_label)\n",
    "            ax.set_ylabel('Implied Volatility (%)')\n",
    "            ax.legend()\n",
    "            ax.grid(True, alpha=0.3)\n",
    "            ax.annotate(f\"Forward: {forward_level:.2f}\n",
    "ATMF Vol: {atmf_vol:.2%}\",\n",
    "                        xy=(0.02, 0.95), xycoords='axes fraction', ha='left', va='top',\n",
    "                        bbox=dict(boxstyle='round', facecolor='white', alpha=0.7))\n",
    "            plt.show()\n"
   ]
  },
  {
   "cell_type": "markdown",
   "id": "843acefb",
   "metadata": {},
   "source": [
    "\n",
    "### Skew Interpretation\n",
    "\n",
    "- **UXZ5:** The near-dated expiry shows pronounced downside skew, with implied volatility rising as strikes fall (negative log-moneyness) and put deltas increase in magnitude. The mid-derived volatilities sit slightly below Bloomberg levels around the forward but converge in the wings, suggesting tight mid quotes near the money.\n",
    "- **UXF6:** The longer expiry exhibits a flatter skew through the center delta axis, though downside strikes still command higher volatilities. Mid-call and mid-put volatilities align closely except deep OTM puts, highlighting wider put spreads in the back month.\n"
   ]
  },
  {
   "cell_type": "markdown",
   "id": "fe00509d",
   "metadata": {},
   "source": [
    "## Summary Interpretation"
   ]
  },
  {
   "cell_type": "code",
   "execution_count": null,
   "id": "454bd94a",
   "metadata": {},
   "outputs": [],
   "source": [
    "\n",
    "comparison = []\n",
    "for expiry, grp in expiry_results.items():\n",
    "    comparison.append({\n",
    "        'Expiry': expiry,\n",
    "        'Forward (Parity Avg)': grp['Forward Level'].iloc[0],\n",
    "        'Future Reference': grp['Future'].iloc[0],\n",
    "        'ATMF Vol': grp['ATMF Vol'].iloc[0],\n",
    "        'ATM Call Delta': grp['ATM Call Delta'].iloc[0]\n",
    "    })\n",
    "summary_table = pd.DataFrame(comparison)\n",
    "summary_table\n"
   ]
  },
  {
   "cell_type": "markdown",
   "id": "12e7f458",
   "metadata": {},
   "source": [
    "\n",
    "The parity-derived forwards track the quoted futures within a few basis points for both expiries, validating the time-to-expiry alignment with the 13 October 2025 valuation date. UXZ5 carries the lower forward level and a higher ATMF volatility, reflecting nearer-term event risk and a steeper downside skew. UXF6 forwards sit higher with slightly lower ATMF volatility, and its skew profile is comparatively muted, indicating calmer expectations further along the curve.\n"
   ]
  }
 ],
 "metadata": {},
 "nbformat": 4,
 "nbformat_minor": 5
}
